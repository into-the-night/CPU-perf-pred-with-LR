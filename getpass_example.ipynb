{
  "nbformat": 4,
  "nbformat_minor": 0,
  "metadata": {
    "colab": {
      "provenance": []
    },
    "kernelspec": {
      "name": "python3",
      "display_name": "Python 3"
    }
  },
  "cells": [
    {
      "metadata": {
        "id": "CjzimUZqDf39",
        "colab": {
          "base_uri": "https://localhost:8080/",
          "height": 51
        },
        "outputId": "c6a9181b-fafd-41f5-af9b-365ebe40e3e3"
      },
      "cell_type": "code",
      "source": [
        "from getpass import getpass\n",
        "\n",
        "token = getpass('Enter token here')\n",
        "print ('token is', token)"
      ],
      "execution_count": null,
      "outputs": [
        {
          "output_type": "stream",
          "text": [
            "Enter token here··········\n",
            "token is token\n"
          ],
          "name": "stdout"
        }
      ]
    }
  ]
}